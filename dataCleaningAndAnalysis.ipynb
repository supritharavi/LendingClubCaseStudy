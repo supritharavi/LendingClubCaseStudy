{
 "cells": [
  {
   "cell_type": "code",
   "execution_count": 1,
   "metadata": {},
   "outputs": [],
   "source": [
    "import pandas as pd\n",
    "import seaborn as sns\n",
    "import matplotlib.pyplot as plt\n",
    "#Dislpay floating point upto 2 decimal places\n",
    "pd.options.display.float_format = '{:.2f}'.format"
   ]
  },
  {
   "cell_type": "code",
   "execution_count": 2,
   "metadata": {},
   "outputs": [
    {
     "name": "stdout",
     "output_type": "stream",
     "text": [
      "            id  member_id  loan_amnt  funded_amnt  funded_amnt_inv  \\\n",
      "0      1077501    1296599       5000         5000          4975.00   \n",
      "1      1077430    1314167       2500         2500          2500.00   \n",
      "2      1077175    1313524       2400         2400          2400.00   \n",
      "3      1076863    1277178      10000        10000         10000.00   \n",
      "4      1075358    1311748       3000         3000          3000.00   \n",
      "...        ...        ...        ...          ...              ...   \n",
      "39712    92187      92174       2500         2500          1075.00   \n",
      "39713    90665      90607       8500         8500           875.00   \n",
      "39714    90395      90390       5000         5000          1325.00   \n",
      "39715    90376      89243       5000         5000           650.00   \n",
      "39716    87023      86999       7500         7500           800.00   \n",
      "\n",
      "             term int_rate  installment grade sub_grade  ...  \\\n",
      "0       36 months   10.65%       162.87     B        B2  ...   \n",
      "1       60 months   15.27%        59.83     C        C4  ...   \n",
      "2       36 months   15.96%        84.33     C        C5  ...   \n",
      "3       36 months   13.49%       339.31     C        C1  ...   \n",
      "4       60 months   12.69%        67.79     B        B5  ...   \n",
      "...           ...      ...          ...   ...       ...  ...   \n",
      "39712   36 months    8.07%        78.42     A        A4  ...   \n",
      "39713   36 months   10.28%       275.38     C        C1  ...   \n",
      "39714   36 months    8.07%       156.84     A        A4  ...   \n",
      "39715   36 months    7.43%       155.38     A        A2  ...   \n",
      "39716   36 months   13.75%       255.43     E        E2  ...   \n",
      "\n",
      "      num_tl_90g_dpd_24m num_tl_op_past_12m pct_tl_nvr_dlq  percent_bc_gt_75  \\\n",
      "0                    nan                nan            nan               nan   \n",
      "1                    nan                nan            nan               nan   \n",
      "2                    nan                nan            nan               nan   \n",
      "3                    nan                nan            nan               nan   \n",
      "4                    nan                nan            nan               nan   \n",
      "...                  ...                ...            ...               ...   \n",
      "39712                nan                nan            nan               nan   \n",
      "39713                nan                nan            nan               nan   \n",
      "39714                nan                nan            nan               nan   \n",
      "39715                nan                nan            nan               nan   \n",
      "39716                nan                nan            nan               nan   \n",
      "\n",
      "      pub_rec_bankruptcies tax_liens tot_hi_cred_lim total_bal_ex_mort  \\\n",
      "0                     0.00      0.00             nan               nan   \n",
      "1                     0.00      0.00             nan               nan   \n",
      "2                     0.00      0.00             nan               nan   \n",
      "3                     0.00      0.00             nan               nan   \n",
      "4                     0.00      0.00             nan               nan   \n",
      "...                    ...       ...             ...               ...   \n",
      "39712                  nan       nan             nan               nan   \n",
      "39713                  nan       nan             nan               nan   \n",
      "39714                  nan       nan             nan               nan   \n",
      "39715                  nan       nan             nan               nan   \n",
      "39716                  nan       nan             nan               nan   \n",
      "\n",
      "      total_bc_limit total_il_high_credit_limit  \n",
      "0                nan                        nan  \n",
      "1                nan                        nan  \n",
      "2                nan                        nan  \n",
      "3                nan                        nan  \n",
      "4                nan                        nan  \n",
      "...              ...                        ...  \n",
      "39712            nan                        nan  \n",
      "39713            nan                        nan  \n",
      "39714            nan                        nan  \n",
      "39715            nan                        nan  \n",
      "39716            nan                        nan  \n",
      "\n",
      "[39717 rows x 111 columns]\n",
      "(39717, 111)\n"
     ]
    },
    {
     "name": "stderr",
     "output_type": "stream",
     "text": [
      "c:\\users\\sravi1\\appdata\\local\\programs\\python\\python37\\lib\\site-packages\\IPython\\core\\interactiveshell.py:3146: DtypeWarning: Columns (47) have mixed types.Specify dtype option on import or set low_memory=False.\n",
      "  interactivity=interactivity, compiler=compiler, result=result)\n"
     ]
    }
   ],
   "source": [
    "loan_df = pd.read_csv('loan/loan.csv')\n",
    "print(loan_df)\n",
    "print(loan_df.shape)"
   ]
  },
  {
   "cell_type": "markdown",
   "metadata": {},
   "source": [
    "## Data Cleaning"
   ]
  },
  {
   "cell_type": "code",
   "execution_count": 3,
   "metadata": {},
   "outputs": [
    {
     "name": "stdout",
     "output_type": "stream",
     "text": [
      "['id', 'member_id', 'loan_amnt', 'funded_amnt', 'funded_amnt_inv', 'term', 'int_rate', 'installment', 'grade', 'sub_grade', 'emp_title', 'emp_length', 'home_ownership', 'annual_inc', 'verification_status', 'issue_d', 'loan_status', 'url', 'desc', 'purpose', 'title', 'zip_code', 'addr_state', 'dti', 'delinq_2yrs', 'earliest_cr_line', 'inq_last_6mths', 'mths_since_last_delinq', 'mths_since_last_record', 'open_acc', 'pub_rec', 'revol_bal', 'revol_util', 'total_acc', 'out_prncp', 'out_prncp_inv', 'total_pymnt', 'total_pymnt_inv', 'total_rec_prncp', 'total_rec_int', 'total_rec_late_fee', 'recoveries', 'collection_recovery_fee', 'last_pymnt_d', 'last_pymnt_amnt', 'next_pymnt_d', 'last_credit_pull_d', 'pub_rec_bankruptcies']\n",
      "(39717, 48)\n"
     ]
    }
   ],
   "source": [
    "#Manual validation to identify columns which will not be useful for analysis. But in case of extremely large data sets it is not efficient/practical to follow a manual process, so let's go with the below approach which is a bit more dynamic.\n",
    "#loan_df = loan_df.drop(columns=['acc_open_past_24mths','desc','title','url','pymnt_plan','policy_code','mths_since_last_major_derog','collections_12_mths_ex_med','application_type','annual_inc_joint','dti_joint','verification_status_joint','acc_now_delinq','tot_coll_amt','tot_cur_bal','open_acc_6m','open_il_6m','open_il_12m','open_il_24m','mths_since_rcnt_il','total_bal_il','il_util','open_rv_12m','open_rv_24m','max_bal_bc','all_util','total_rev_hi_lim','inq_fi','total_cu_tl','inq_last_12m','acc_open_past_24mths','avg_cur_bal','bc_open_to_buy','bc_util','chargeoff_within_12_mths','delinq_amnt','mo_sin_old_il_acct','mo_sin_old_rev_tl_op','mo_sin_rcnt_rev_tl_op','mo_sin_rcnt_tl','mort_acc','mths_since_recent_bc','mths_since_recent_bc_dlq','mths_since_recent_inq','mths_since_recent_revol_delinq','num_accts_ever_120_pd','num_actv_bc_tl','num_actv_rev_tl','num_bc_sats','num_bc_tl','num_il_tl','num_op_rev_tl','num_rev_accts','num_rev_tl_bal_gt_0','num_sats','num_tl_120dpd_2m','num_tl_30dpd','num_tl_90g_dpd_24m','num_tl_op_past_12m','pct_tl_nvr_dlq','percent_bc_gt_75','pub_rec_bankruptcies','tax_liens','tot_hi_cred_lim','total_bal_ex_mort','total_bc_limit','total_il_high_credit_limit','initial_list_status'])\n",
    "#loan_df.shape\n",
    "\n",
    "# Drop columns with all NA values\n",
    "loan_df_1 = loan_df.dropna(axis=1, how='all')  \n",
    "# Drop columns with the same value for all entries\n",
    "loan_df_1 = loan_df_1.loc[:, loan_df_1.nunique() > 1]  \n",
    "\n",
    "# Print the remaining columns\n",
    "print(loan_df_1.columns.tolist())\n",
    "print(loan_df_1.shape)"
   ]
  },
  {
   "cell_type": "code",
   "execution_count": 4,
   "metadata": {},
   "outputs": [
    {
     "data": {
      "text/plain": [
       "Index(['mths_since_last_record', 'next_pymnt_d'], dtype='object')"
      ]
     },
     "execution_count": 4,
     "metadata": {},
     "output_type": "execute_result"
    }
   ],
   "source": [
    "#List columns where all data is missing\n",
    "missing_cols = loan_df_1.columns[100*(loan_df_1.isnull().sum()/len(loan_df_1)) > 90]\n",
    "missing_cols"
   ]
  },
  {
   "cell_type": "code",
   "execution_count": 5,
   "metadata": {},
   "outputs": [
    {
     "data": {
      "text/plain": [
       "(39717, 46)"
      ]
     },
     "execution_count": 5,
     "metadata": {},
     "output_type": "execute_result"
    }
   ],
   "source": [
    "# Drop all missing columns\n",
    "loan_df_1 = loan_df_1.drop(missing_cols, axis =1 )\n",
    "loan_df_1.shape"
   ]
  },
  {
   "cell_type": "code",
   "execution_count": 6,
   "metadata": {},
   "outputs": [
    {
     "data": {
      "text/plain": [
       "(39717, 46)"
      ]
     },
     "execution_count": 6,
     "metadata": {},
     "output_type": "execute_result"
    }
   ],
   "source": [
    "# Calculate the percentage of missing values in each row\n",
    "missing_percentages_rows = loan_df_1.isnull().mean(axis=0) * 100\n",
    "\n",
    "# Filter rows where more than 90% of data is missing\n",
    "rows_to_drop = missing_percentages_rows[missing_percentages_rows > 90].index\n",
    "\n",
    "# Drop the rows from the DataFrame\n",
    "loan_df_1 = loan_df_1.drop(rows_to_drop)\n",
    "loan_df_1.shape"
   ]
  },
  {
   "cell_type": "code",
   "execution_count": 7,
   "metadata": {},
   "outputs": [
    {
     "data": {
      "text/html": [
       "<div>\n",
       "<style scoped>\n",
       "    .dataframe tbody tr th:only-of-type {\n",
       "        vertical-align: middle;\n",
       "    }\n",
       "\n",
       "    .dataframe tbody tr th {\n",
       "        vertical-align: top;\n",
       "    }\n",
       "\n",
       "    .dataframe thead th {\n",
       "        text-align: right;\n",
       "    }\n",
       "</style>\n",
       "<table border=\"1\" class=\"dataframe\">\n",
       "  <thead>\n",
       "    <tr style=\"text-align: right;\">\n",
       "      <th></th>\n",
       "      <th>id</th>\n",
       "      <th>member_id</th>\n",
       "      <th>loan_amnt</th>\n",
       "      <th>funded_amnt</th>\n",
       "      <th>funded_amnt_inv</th>\n",
       "      <th>term</th>\n",
       "      <th>int_rate</th>\n",
       "      <th>installment</th>\n",
       "      <th>grade</th>\n",
       "      <th>sub_grade</th>\n",
       "      <th>...</th>\n",
       "      <th>total_pymnt_inv</th>\n",
       "      <th>total_rec_prncp</th>\n",
       "      <th>total_rec_int</th>\n",
       "      <th>total_rec_late_fee</th>\n",
       "      <th>recoveries</th>\n",
       "      <th>collection_recovery_fee</th>\n",
       "      <th>last_pymnt_d</th>\n",
       "      <th>last_pymnt_amnt</th>\n",
       "      <th>last_credit_pull_d</th>\n",
       "      <th>pub_rec_bankruptcies</th>\n",
       "    </tr>\n",
       "  </thead>\n",
       "  <tbody>\n",
       "    <tr>\n",
       "      <th>0</th>\n",
       "      <td>1077501</td>\n",
       "      <td>1296599</td>\n",
       "      <td>5000</td>\n",
       "      <td>5000</td>\n",
       "      <td>4975.00</td>\n",
       "      <td>36 months</td>\n",
       "      <td>10.65%</td>\n",
       "      <td>162.87</td>\n",
       "      <td>B</td>\n",
       "      <td>B2</td>\n",
       "      <td>...</td>\n",
       "      <td>5833.84</td>\n",
       "      <td>5000.00</td>\n",
       "      <td>863.16</td>\n",
       "      <td>0.00</td>\n",
       "      <td>0.00</td>\n",
       "      <td>0.00</td>\n",
       "      <td>Jan-15</td>\n",
       "      <td>171.62</td>\n",
       "      <td>May-16</td>\n",
       "      <td>0.00</td>\n",
       "    </tr>\n",
       "    <tr>\n",
       "      <th>1</th>\n",
       "      <td>1077430</td>\n",
       "      <td>1314167</td>\n",
       "      <td>2500</td>\n",
       "      <td>2500</td>\n",
       "      <td>2500.00</td>\n",
       "      <td>60 months</td>\n",
       "      <td>15.27%</td>\n",
       "      <td>59.83</td>\n",
       "      <td>C</td>\n",
       "      <td>C4</td>\n",
       "      <td>...</td>\n",
       "      <td>1008.71</td>\n",
       "      <td>456.46</td>\n",
       "      <td>435.17</td>\n",
       "      <td>0.00</td>\n",
       "      <td>117.08</td>\n",
       "      <td>1.11</td>\n",
       "      <td>Apr-13</td>\n",
       "      <td>119.66</td>\n",
       "      <td>Sep-13</td>\n",
       "      <td>0.00</td>\n",
       "    </tr>\n",
       "    <tr>\n",
       "      <th>2</th>\n",
       "      <td>1077175</td>\n",
       "      <td>1313524</td>\n",
       "      <td>2400</td>\n",
       "      <td>2400</td>\n",
       "      <td>2400.00</td>\n",
       "      <td>36 months</td>\n",
       "      <td>15.96%</td>\n",
       "      <td>84.33</td>\n",
       "      <td>C</td>\n",
       "      <td>C5</td>\n",
       "      <td>...</td>\n",
       "      <td>3005.67</td>\n",
       "      <td>2400.00</td>\n",
       "      <td>605.67</td>\n",
       "      <td>0.00</td>\n",
       "      <td>0.00</td>\n",
       "      <td>0.00</td>\n",
       "      <td>Jun-14</td>\n",
       "      <td>649.91</td>\n",
       "      <td>May-16</td>\n",
       "      <td>0.00</td>\n",
       "    </tr>\n",
       "    <tr>\n",
       "      <th>3</th>\n",
       "      <td>1076863</td>\n",
       "      <td>1277178</td>\n",
       "      <td>10000</td>\n",
       "      <td>10000</td>\n",
       "      <td>10000.00</td>\n",
       "      <td>36 months</td>\n",
       "      <td>13.49%</td>\n",
       "      <td>339.31</td>\n",
       "      <td>C</td>\n",
       "      <td>C1</td>\n",
       "      <td>...</td>\n",
       "      <td>12231.89</td>\n",
       "      <td>10000.00</td>\n",
       "      <td>2214.92</td>\n",
       "      <td>16.97</td>\n",
       "      <td>0.00</td>\n",
       "      <td>0.00</td>\n",
       "      <td>Jan-15</td>\n",
       "      <td>357.48</td>\n",
       "      <td>Apr-16</td>\n",
       "      <td>0.00</td>\n",
       "    </tr>\n",
       "    <tr>\n",
       "      <th>4</th>\n",
       "      <td>1075358</td>\n",
       "      <td>1311748</td>\n",
       "      <td>3000</td>\n",
       "      <td>3000</td>\n",
       "      <td>3000.00</td>\n",
       "      <td>60 months</td>\n",
       "      <td>12.69%</td>\n",
       "      <td>67.79</td>\n",
       "      <td>B</td>\n",
       "      <td>B5</td>\n",
       "      <td>...</td>\n",
       "      <td>3513.33</td>\n",
       "      <td>2475.94</td>\n",
       "      <td>1037.39</td>\n",
       "      <td>0.00</td>\n",
       "      <td>0.00</td>\n",
       "      <td>0.00</td>\n",
       "      <td>May-16</td>\n",
       "      <td>67.79</td>\n",
       "      <td>May-16</td>\n",
       "      <td>0.00</td>\n",
       "    </tr>\n",
       "  </tbody>\n",
       "</table>\n",
       "<p>5 rows × 46 columns</p>\n",
       "</div>"
      ],
      "text/plain": [
       "        id  member_id  loan_amnt  funded_amnt  funded_amnt_inv        term  \\\n",
       "0  1077501    1296599       5000         5000          4975.00   36 months   \n",
       "1  1077430    1314167       2500         2500          2500.00   60 months   \n",
       "2  1077175    1313524       2400         2400          2400.00   36 months   \n",
       "3  1076863    1277178      10000        10000         10000.00   36 months   \n",
       "4  1075358    1311748       3000         3000          3000.00   60 months   \n",
       "\n",
       "  int_rate  installment grade sub_grade  ... total_pymnt_inv total_rec_prncp  \\\n",
       "0   10.65%       162.87     B        B2  ...         5833.84         5000.00   \n",
       "1   15.27%        59.83     C        C4  ...         1008.71          456.46   \n",
       "2   15.96%        84.33     C        C5  ...         3005.67         2400.00   \n",
       "3   13.49%       339.31     C        C1  ...        12231.89        10000.00   \n",
       "4   12.69%        67.79     B        B5  ...         3513.33         2475.94   \n",
       "\n",
       "  total_rec_int  total_rec_late_fee recoveries collection_recovery_fee  \\\n",
       "0        863.16                0.00       0.00                    0.00   \n",
       "1        435.17                0.00     117.08                    1.11   \n",
       "2        605.67                0.00       0.00                    0.00   \n",
       "3       2214.92               16.97       0.00                    0.00   \n",
       "4       1037.39                0.00       0.00                    0.00   \n",
       "\n",
       "  last_pymnt_d last_pymnt_amnt last_credit_pull_d pub_rec_bankruptcies  \n",
       "0       Jan-15          171.62             May-16                 0.00  \n",
       "1       Apr-13          119.66             Sep-13                 0.00  \n",
       "2       Jun-14          649.91             May-16                 0.00  \n",
       "3       Jan-15          357.48             Apr-16                 0.00  \n",
       "4       May-16           67.79             May-16                 0.00  \n",
       "\n",
       "[5 rows x 46 columns]"
      ]
     },
     "execution_count": 7,
     "metadata": {},
     "output_type": "execute_result"
    }
   ],
   "source": [
    "loan_df_1.head()"
   ]
  },
  {
   "cell_type": "code",
   "execution_count": 8,
   "metadata": {},
   "outputs": [
    {
     "name": "stdout",
     "output_type": "stream",
     "text": [
      "['id', 'member_id', 'loan_amnt', 'funded_amnt', 'funded_amnt_inv', 'term', 'int_rate', 'installment', 'grade', 'sub_grade', 'emp_title', 'emp_length', 'home_ownership', 'annual_inc', 'verification_status', 'issue_d', 'loan_status', 'url', 'desc', 'purpose', 'title', 'zip_code', 'addr_state', 'dti', 'delinq_2yrs', 'earliest_cr_line', 'inq_last_6mths', 'mths_since_last_delinq', 'open_acc', 'pub_rec', 'revol_bal', 'revol_util', 'total_acc', 'out_prncp', 'out_prncp_inv', 'total_pymnt', 'total_pymnt_inv', 'total_rec_prncp', 'total_rec_int', 'total_rec_late_fee', 'recoveries', 'collection_recovery_fee', 'last_pymnt_d', 'last_pymnt_amnt', 'last_credit_pull_d', 'pub_rec_bankruptcies']\n"
     ]
    }
   ],
   "source": [
    "# List of columns to work with \n",
    "print(loan_df_1.columns.tolist())"
   ]
  },
  {
   "cell_type": "markdown",
   "metadata": {},
   "source": [
    "## Data Cleaning / Normalization"
   ]
  },
  {
   "cell_type": "code",
   "execution_count": 9,
   "metadata": {},
   "outputs": [],
   "source": [
    "#Numeric mapping for loan status for ease of plotting on graphs\n",
    "status_mapping = {\n",
    "    'Fully Paid': 0,\n",
    "    'Charged Off': 1,\n",
    "    'Current': 2\n",
    "}\n",
    "loan_df_1['loan_status_numeric'] = loan_df_1['loan_status'].map(status_mapping)"
   ]
  },
  {
   "cell_type": "code",
   "execution_count": 10,
   "metadata": {},
   "outputs": [
    {
     "data": {
      "text/plain": [
       " 36 months    29096\n",
       " 60 months    10621\n",
       "Name: term, dtype: int64"
      ]
     },
     "execution_count": 10,
     "metadata": {},
     "output_type": "execute_result"
    }
   ],
   "source": [
    "loan_df_1['term'].value_counts()"
   ]
  },
  {
   "cell_type": "code",
   "execution_count": 11,
   "metadata": {},
   "outputs": [
    {
     "data": {
      "text/plain": [
       "36    29096\n",
       "60    10621\n",
       "Name: term, dtype: int64"
      ]
     },
     "execution_count": 11,
     "metadata": {},
     "output_type": "execute_result"
    }
   ],
   "source": [
    "# Remove \"months\" and convert to integer value for ease of plotting graphs\n",
    "loan_df_1['term'] = loan_df_1['term'].str.replace(' months', '').astype(int)\n",
    "loan_df_1['term'].value_counts()"
   ]
  },
  {
   "cell_type": "code",
   "execution_count": 12,
   "metadata": {},
   "outputs": [
    {
     "data": {
      "text/plain": [
       "10.99    956\n",
       "13.49    826\n",
       "11.49    825\n",
       "7.51     787\n",
       "7.88     725\n",
       "        ... \n",
       "17.54      1\n",
       "17.44      1\n",
       "20.52      1\n",
       "24.59      1\n",
       "17.34      1\n",
       "Name: int_rate, Length: 371, dtype: int64"
      ]
     },
     "execution_count": 12,
     "metadata": {},
     "output_type": "execute_result"
    }
   ],
   "source": [
    "# Remove \"%\" and convert to float\n",
    "loan_df_1['int_rate'] = loan_df_1['int_rate'].str.replace('%', '').astype(float)\n",
    "loan_df_1['int_rate'].value_counts()"
   ]
  },
  {
   "cell_type": "code",
   "execution_count": 13,
   "metadata": {},
   "outputs": [
    {
     "data": {
      "text/plain": [
       "0.00     977\n",
       "0.20      63\n",
       "63.00     62\n",
       "40.70     58\n",
       "66.70     58\n",
       "        ... \n",
       "70.94      1\n",
       "8.49       1\n",
       "77.63      1\n",
       "10.17      1\n",
       "24.66      1\n",
       "Name: revol_util, Length: 1089, dtype: int64"
      ]
     },
     "execution_count": 13,
     "metadata": {},
     "output_type": "execute_result"
    }
   ],
   "source": [
    "# Remove \"%\" and convert to float\n",
    "loan_df_1['revol_util'] = loan_df_1['revol_util'].str.replace('%', '').astype(float)\n",
    "loan_df_1['revol_util'].value_counts()"
   ]
  },
  {
   "cell_type": "code",
   "execution_count": 14,
   "metadata": {},
   "outputs": [
    {
     "data": {
      "text/plain": [
       "11.00    8879\n",
       "0.90     4583\n",
       "2.00     4388\n",
       "3.00     4095\n",
       "4.00     3436\n",
       "5.00     3282\n",
       "1.00     3240\n",
       "6.00     2229\n",
       "7.00     1773\n",
       "8.00     1479\n",
       "9.00     1258\n",
       "Name: emp_length_num, dtype: int64"
      ]
     },
     "execution_count": 14,
     "metadata": {},
     "output_type": "execute_result"
    }
   ],
   "source": [
    "# Remove \"%\" and convert to float\n",
    "loan_df_1['emp_length_num'] = loan_df_1['emp_length']\n",
    "loan_df_1['emp_length_num'] = loan_df_1['emp_length_num'].str.replace(' years', '')\n",
    "loan_df_1['emp_length_num'] = loan_df_1['emp_length_num'].str.replace('< 1 year', '0.9')\n",
    "loan_df_1['emp_length_num'] = loan_df_1['emp_length_num'].str.replace('1 year', '1')\n",
    "loan_df_1['emp_length_num'] = loan_df_1['emp_length_num'].str.replace('10\\+', '11')\n",
    "loan_df_1['emp_length_num'] = loan_df_1['emp_length_num'].astype(float)\n",
    "loan_df_1['emp_length_num'].value_counts()"
   ]
  },
  {
   "cell_type": "markdown",
   "metadata": {},
   "source": [
    "## Derived Metrics"
   ]
  },
  {
   "cell_type": "code",
   "execution_count": 15,
   "metadata": {},
   "outputs": [],
   "source": [
    "# Identify all records which fall under 100000 for Annual income category and mark them as True for low income as this seems a possible factor to assess for loan credibility\n",
    "loan_df_1['low_income'] = loan_df_1['annual_inc'] < 100000"
   ]
  },
  {
   "cell_type": "code",
   "execution_count": 16,
   "metadata": {},
   "outputs": [],
   "source": [
    "# Total credit revolving balance / Annual income. Good candidate for loan credibility factor. If high then providing loan to such candidates can be risky\n",
    "loan_df_1['TRB_AI'] = (loan_df_1['revol_bal'] // loan_df_1['annual_inc']) * 100\n",
    "loan_df_1['TRB_AI'] = loan_df_1['TRB_AI'].astype(int)"
   ]
  },
  {
   "cell_type": "code",
   "execution_count": 17,
   "metadata": {},
   "outputs": [],
   "source": [
    "#Annual interest amount\n",
    "loan_df_1['annual_int_amnt'] = loan_df_1['loan_amnt'] * (loan_df_1['int_rate'] / 100)"
   ]
  },
  {
   "cell_type": "code",
   "execution_count": 18,
   "metadata": {},
   "outputs": [],
   "source": [
    "#Interest to income percentage\n",
    "loan_df_1['interest_to_income'] = (loan_df_1['annual_int_amnt'] / loan_df_1['annual_inc']) * 100"
   ]
  },
  {
   "cell_type": "markdown",
   "metadata": {},
   "source": [
    "## Univariate Analysis"
   ]
  },
  {
   "cell_type": "code",
   "execution_count": 19,
   "metadata": {},
   "outputs": [
    {
     "data": {
      "text/plain": [
       "count     39717.00\n",
       "mean      68968.93\n",
       "std       63793.77\n",
       "min        4000.00\n",
       "25%       40404.00\n",
       "50%       59000.00\n",
       "75%       82300.00\n",
       "max     6000000.00\n",
       "Name: annual_inc, dtype: float64"
      ]
     },
     "execution_count": 19,
     "metadata": {},
     "output_type": "execute_result"
    }
   ],
   "source": [
    "#Starting with Annual income\n",
    "loan_df_1['annual_inc'].describe()"
   ]
  },
  {
   "cell_type": "code",
   "execution_count": 20,
   "metadata": {},
   "outputs": [
    {
     "name": "stdout",
     "output_type": "stream",
     "text": [
      "1\n"
     ]
    },
    {
     "data": {
      "text/plain": [
       "count     39716.00\n",
       "mean      68819.59\n",
       "std       56426.82\n",
       "min        4000.00\n",
       "25%       40403.00\n",
       "50%       59000.00\n",
       "75%       82300.00\n",
       "max     3900000.00\n",
       "Name: annual_inc, dtype: float64"
      ]
     },
     "execution_count": 20,
     "metadata": {},
     "output_type": "execute_result"
    }
   ],
   "source": [
    "#Remove Outliers\n",
    "print((loan_df_1['annual_inc'] == 6000000).sum())\n",
    "loan_df_1 = loan_df_1[loan_df_1['annual_inc'] != 6000000]\n",
    "loan_df_1['annual_inc'].describe()"
   ]
  },
  {
   "cell_type": "code",
   "execution_count": 21,
   "metadata": {},
   "outputs": [
    {
     "name": "stdout",
     "output_type": "stream",
     "text": [
      "count   39716.00\n",
      "mean    11219.60\n",
      "std      7456.70\n",
      "min       500.00\n",
      "25%      5500.00\n",
      "50%     10000.00\n",
      "75%     15000.00\n",
      "max     35000.00\n",
      "Name: loan_amnt, dtype: float64\n"
     ]
    },
    {
     "data": {
      "image/png": "[encoded data removed]",
      "text/plain": [
       "<Figure size 432x288 with 1 Axes>"
      ]
     },
     "metadata": {
      "needs_background": "light"
     },
     "output_type": "display_data"
    }
   ],
   "source": [
    "print(loan_df_1['loan_amnt'].describe())\n",
    "plt.hist(loan_df_1['loan_amnt'])\n",
    "plt.xlabel('Loan Amount')\n",
    "plt.ylabel('Frequency')\n",
    "plt.show()"
   ]
  },
  {
   "cell_type": "code",
   "execution_count": 22,
   "metadata": {},
   "outputs": [
    {
     "name": "stdout",
     "output_type": "stream",
     "text": [
      "count   39716.00\n",
      "mean       12.02\n",
      "std         3.72\n",
      "min         5.42\n",
      "25%         9.25\n",
      "50%        11.86\n",
      "75%        14.59\n",
      "max        24.59\n",
      "Name: int_rate, dtype: float64\n"
     ]
    },
    {
     "data": {
      "image/png": "[encoded data removed]",
      "text/plain": [
       "<Figure size 432x288 with 1 Axes>"
      ]
     },
     "metadata": {
      "needs_background": "light"
     },
     "output_type": "display_data"
    }
   ],
   "source": [
    "print(loan_df_1['int_rate'].describe())\n",
    "plt.hist(loan_df_1['int_rate'])\n",
    "plt.xlabel('Interest Rate')\n",
    "plt.ylabel('Frequency')\n",
    "plt.show()"
   ]
  },
  {
   "cell_type": "markdown",
   "metadata": {},
   "source": [
    "## Bivariate Analysis"
   ]
  },
  {
   "cell_type": "code",
   "execution_count": 23,
   "metadata": {},
   "outputs": [
    {
     "data": {
      "text/plain": [
       "(5627, 52)"
      ]
     },
     "execution_count": 23,
     "metadata": {},
     "output_type": "execute_result"
    }
   ],
   "source": [
    "# Before starting, Let's create separate datasets for Fully paid and Charged off customers for ease of comparison and validation\n",
    "charged_off_df = loan_df_1[loan_df_1['loan_status'] == \"Charged Off\"]\n",
    "charged_off_df.shape"
   ]
  },
  {
   "cell_type": "code",
   "execution_count": 24,
   "metadata": {},
   "outputs": [
    {
     "data": {
      "text/plain": [
       "(32949, 52)"
      ]
     },
     "execution_count": 24,
     "metadata": {},
     "output_type": "execute_result"
    }
   ],
   "source": [
    "fully_paid_df = loan_df_1[loan_df_1['loan_status'] == \"Fully Paid\"]\n",
    "fully_paid_df.shape"
   ]
  },
  {
   "cell_type": "code",
   "execution_count": 25,
   "metadata": {},
   "outputs": [
    {
     "data": {
      "image/png": "[encoded data removed]",
      "text/plain": [
       "<Figure size 432x288 with 1 Axes>"
      ]
     },
     "metadata": {
      "needs_background": "light"
     },
     "output_type": "display_data"
    },
    {
     "name": "stdout",
     "output_type": "stream",
     "text": [
      "Fully Paid: \n",
      "count   32949.00\n",
      "mean    10866.63\n",
      "std      7199.67\n",
      "min       500.00\n",
      "25%      5200.00\n",
      "50%      9600.00\n",
      "75%     15000.00\n",
      "max     35000.00\n",
      "Name: loan_amnt, dtype: float64\n",
      "Charged Off: \n",
      "count    5627.00\n",
      "mean    12104.39\n",
      "std      8085.73\n",
      "min       900.00\n",
      "25%      5600.00\n",
      "50%     10000.00\n",
      "75%     16500.00\n",
      "max     35000.00\n",
      "Name: loan_amnt, dtype: float64\n"
     ]
    }
   ],
   "source": [
    "# Loan amount vs Loan Status\n",
    "sns.barplot(x='loan_status',y='loan_amnt',data=loan_df_1)\n",
    "plt.show()\n",
    "print(f\"Fully Paid: \\n{fully_paid_df['loan_amnt'].describe()}\")\n",
    "print(f\"Charged Off: \\n{charged_off_df['loan_amnt'].describe()}\")"
   ]
  },
  {
   "cell_type": "code",
   "execution_count": 26,
   "metadata": {},
   "outputs": [
    {
     "data": {
      "image/png": "[encoded data removed]",
      "text/plain": [
       "<Figure size 432x288 with 1 Axes>"
      ]
     },
     "metadata": {
      "needs_background": "light"
     },
     "output_type": "display_data"
    }
   ],
   "source": [
    "# Interest rate vs Loan Status\n",
    "sns.barplot(x='loan_status',y='int_rate',data=loan_df_1)\n",
    "plt.show()\n",
    "#As we can see in below graph, Interest rate seems to be playing a signoficant role in case of defaulters."
   ]
  },
  {
   "cell_type": "code",
   "execution_count": 27,
   "metadata": {},
   "outputs": [
    {
     "name": "stdout",
     "output_type": "stream",
     "text": [
      "Charged Off: \n",
      "36    3227\n",
      "60    2400\n",
      "Name: term, dtype: int64\n",
      "Fully Paid: \n",
      "36    25868\n",
      "60     7081\n",
      "Name: term, dtype: int64\n"
     ]
    },
    {
     "data": {
      "image/png": "[encoded data removed]",
      "text/plain": [
       "<Figure size 432x288 with 1 Axes>"
      ]
     },
     "metadata": {
      "needs_background": "light"
     },
     "output_type": "display_data"
    },
    {
     "data": {
      "image/png": "[encoded data removed]",
      "text/plain": [
       "<Figure size 432x288 with 1 Axes>"
      ]
     },
     "metadata": {
      "needs_background": "light"
     },
     "output_type": "display_data"
    }
   ],
   "source": [
    "# Term vs Loan Status\n",
    "print(f\"Charged Off: \\n{charged_off_df['term'].value_counts()}\")\n",
    "print(f\"Fully Paid: \\n{fully_paid_df['term'].value_counts()}\")\n",
    "\n",
    "plt.hist(charged_off_df['term'])\n",
    "plt.xlabel('Charged Off Term')\n",
    "plt.ylabel('Frequency')\n",
    "plt.show()\n",
    "\n",
    "plt.hist(fully_paid_df['term'])\n",
    "plt.xlabel('Fully Paid Term')\n",
    "plt.ylabel('Frequency')\n",
    "plt.show()"
   ]
  },
  {
   "cell_type": "code",
   "execution_count": 28,
   "metadata": {},
   "outputs": [
    {
     "data": {
      "image/png": "[encoded data removed]",
      "text/plain": [
       "<Figure size 432x288 with 1 Axes>"
      ]
     },
     "metadata": {
      "needs_background": "light"
     },
     "output_type": "display_data"
    },
    {
     "data": {
      "image/png": "[encoded data removed]",
      "text/plain": [
       "<Figure size 432x288 with 1 Axes>"
      ]
     },
     "metadata": {
      "needs_background": "light"
     },
     "output_type": "display_data"
    },
    {
     "data": {
      "image/png": "[encoded data removed]",
      "text/plain": [
       "<Figure size 432x288 with 1 Axes>"
      ]
     },
     "metadata": {
      "needs_background": "light"
     },
     "output_type": "display_data"
    }
   ],
   "source": [
    "# Annual income\n",
    "plt.scatter(charged_off_df['annual_inc'], charged_off_df['loan_status'])\n",
    "plt.xlabel('Charged off annual_inc')\n",
    "plt.ylabel('Loan Status')\n",
    "plt.show()\n",
    "plt.scatter(fully_paid_df['annual_inc'], fully_paid_df['loan_status'])\n",
    "plt.xlabel('fully_paid_df annual_inc')\n",
    "plt.ylabel('Loan Status')\n",
    "plt.show()\n",
    "sns.barplot(x='loan_status',y='annual_inc',data=loan_df_1)\n",
    "plt.show()\n",
    "#There's a significant dip in annual income for Charged off customers."
   ]
  },
  {
   "cell_type": "code",
   "execution_count": 29,
   "metadata": {},
   "outputs": [
    {
     "data": {
      "image/png": "[encoded data removed]",
      "text/plain": [
       "<Figure size 432x288 with 1 Axes>"
      ]
     },
     "metadata": {
      "needs_background": "light"
     },
     "output_type": "display_data"
    },
    {
     "name": "stdout",
     "output_type": "stream",
     "text": [
      "Charged Off Data: \n",
      "11.00    1331\n",
      "0.90      639\n",
      "2.00      567\n",
      "3.00      555\n",
      "4.00      462\n",
      "5.00      458\n",
      "1.00      456\n",
      "6.00      307\n",
      "7.00      263\n",
      "8.00      203\n",
      "9.00      158\n",
      "Name: emp_length_num, dtype: int64\n",
      "Fully Paid Data: \n",
      "11.00    7156\n",
      "0.90     3869\n",
      "2.00     3724\n",
      "3.00     3457\n",
      "4.00     2880\n",
      "5.00     2736\n",
      "1.00     2713\n",
      "6.00     1861\n",
      "7.00     1448\n",
      "8.00     1232\n",
      "9.00     1068\n",
      "Name: emp_length_num, dtype: int64\n"
     ]
    }
   ],
   "source": [
    "#Employment length vs Loan Status\n",
    "plt.scatter(loan_df_1['emp_length_num'], loan_df_1['loan_status'])\n",
    "plt.xlabel('Employment Length')\n",
    "plt.ylabel('Loan Status')\n",
    "plt.show()\n",
    "print(f\"Charged Off Data: \\n{charged_off_df['emp_length_num'].value_counts()}\")\n",
    "print(f\"Fully Paid Data: \\n{fully_paid_df['emp_length_num'].value_counts()}\")"
   ]
  },
  {
   "cell_type": "code",
   "execution_count": 30,
   "metadata": {},
   "outputs": [
    {
     "data": {
      "image/png": "[encoded data removed]",
      "text/plain": [
       "<Figure size 432x288 with 1 Axes>"
      ]
     },
     "metadata": {
      "needs_background": "light"
     },
     "output_type": "display_data"
    },
    {
     "data": {
      "image/png": "[encoded data removed]",
      "text/plain": [
       "<Figure size 432x288 with 1 Axes>"
      ]
     },
     "metadata": {
      "needs_background": "light"
     },
     "output_type": "display_data"
    },
    {
     "data": {
      "image/png": "[encoded data removed]",
      "text/plain": [
       "<Figure size 432x288 with 1 Axes>"
      ]
     },
     "metadata": {
      "needs_background": "light"
     },
     "output_type": "display_data"
    }
   ],
   "source": [
    "# Interest rate\n",
    "plt.hist(charged_off_df['int_rate'])\n",
    "plt.xlabel('Charged Off int_rate')\n",
    "plt.ylabel('Frequency')\n",
    "plt.show()\n",
    "\n",
    "plt.hist(fully_paid_df['int_rate'])\n",
    "plt.xlabel('Fully Paid int_rate')\n",
    "plt.ylabel('Frequency')\n",
    "plt.show()\n",
    "sns.barplot(x='loan_status',y='int_rate',data=loan_df_1)\n",
    "plt.show()\n",
    "#Significant increase in interest rate"
   ]
  },
  {
   "cell_type": "code",
   "execution_count": 31,
   "metadata": {},
   "outputs": [
    {
     "name": "stdout",
     "output_type": "stream",
     "text": [
      "Overall Data: \n",
      "True     33517\n",
      "False     6199\n",
      "Name: low_income, dtype: int64\n",
      "Charged Off Data: \n",
      "True     4983\n",
      "False     644\n",
      "Name: low_income, dtype: int64\n",
      "Fully Paid Data: \n",
      "True     27615\n",
      "False     5334\n",
      "Name: low_income, dtype: int64\n"
     ]
    }
   ],
   "source": [
    "#Using derived column low income\n",
    "print(f\"Overall Data: \\n{loan_df_1['low_income'].value_counts()}\")\n",
    "print(f\"Charged Off Data: \\n{charged_off_df['low_income'].value_counts()}\")\n",
    "print(f\"Fully Paid Data: \\n{fully_paid_df['low_income'].value_counts()}\")"
   ]
  },
  {
   "cell_type": "code",
   "execution_count": 32,
   "metadata": {},
   "outputs": [
    {
     "name": "stdout",
     "output_type": "stream",
     "text": [
      "Charged Off Data: \n",
      "B    1425\n",
      "C    1347\n",
      "D    1118\n",
      "E     715\n",
      "A     602\n",
      "F     319\n",
      "G     101\n",
      "Name: grade, dtype: int64\n",
      "Fully Paid Data: \n",
      "B    10250\n",
      "A     9443\n",
      "C     6486\n",
      "D     3967\n",
      "E     1948\n",
      "F      657\n",
      "G      198\n",
      "Name: grade, dtype: int64\n"
     ]
    }
   ],
   "source": [
    "print(f\"Charged Off Data: \\n{charged_off_df['grade'].value_counts()}\")\n",
    "print(f\"Fully Paid Data: \\n{fully_paid_df['grade'].value_counts()}\")"
   ]
  },
  {
   "cell_type": "code",
   "execution_count": 33,
   "metadata": {},
   "outputs": [
    {
     "name": "stdout",
     "output_type": "stream",
     "text": [
      "Charged Off Data: \n",
      "count     5627\n",
      "unique      35\n",
      "top         B5\n",
      "freq       356\n",
      "Name: sub_grade, dtype: object\n",
      "Fully Paid Data: \n",
      "count     32949\n",
      "unique       35\n",
      "top          A4\n",
      "freq       2695\n",
      "Name: sub_grade, dtype: object\n",
      "Charged Off Data: \n",
      "B5    356\n",
      "B3    341\n",
      "C1    336\n",
      "B4    329\n",
      "C2    321\n",
      "D2    271\n",
      "C3    270\n",
      "D3    256\n",
      "B2    228\n",
      "A5    217\n",
      "D4    215\n",
      "C4    212\n",
      "D5    209\n",
      "C5    208\n",
      "E1    198\n",
      "A4    178\n",
      "B1    171\n",
      "D1    167\n",
      "E2    163\n",
      "E4    126\n",
      "E3    119\n",
      "E5    109\n",
      "A3    103\n",
      "F1     91\n",
      "A2     74\n",
      "F2     70\n",
      "F5     54\n",
      "F4     53\n",
      "F3     51\n",
      "G1     31\n",
      "A1     30\n",
      "G2     28\n",
      "G3     19\n",
      "G4     13\n",
      "G5     10\n",
      "Name: sub_grade, dtype: int64\n",
      "Fully Paid Data: \n",
      "A4    2695\n",
      "A5    2498\n",
      "B3    2484\n",
      "B5    2259\n",
      "B4    2108\n",
      "B2    1773\n",
      "C1    1718\n",
      "A3    1707\n",
      "B1    1626\n",
      "C2    1610\n",
      "A2    1434\n",
      "C3    1218\n",
      "A1    1109\n",
      "D2    1015\n",
      "C4     994\n",
      "C5     946\n",
      "D3     860\n",
      "D1     764\n",
      "D4     703\n",
      "D5     625\n",
      "E1     524\n",
      "E2     451\n",
      "E3     397\n",
      "E4     298\n",
      "E5     278\n",
      "F1     214\n",
      "F2     163\n",
      "F3     123\n",
      "F4      98\n",
      "G1      63\n",
      "F5      59\n",
      "G2      49\n",
      "G4      41\n",
      "G3      26\n",
      "G5      19\n",
      "Name: sub_grade, dtype: int64\n"
     ]
    }
   ],
   "source": [
    "print(f\"Charged Off Data: \\n{charged_off_df['sub_grade'].describe()}\")\n",
    "print(f\"Fully Paid Data: \\n{fully_paid_df['sub_grade'].describe()}\")\n",
    "print(f\"Charged Off Data: \\n{charged_off_df['sub_grade'].value_counts()}\")\n",
    "print(f\"Fully Paid Data: \\n{fully_paid_df['sub_grade'].value_counts()}\")"
   ]
  },
  {
   "cell_type": "code",
   "execution_count": 34,
   "metadata": {},
   "outputs": [
    {
     "name": "stdout",
     "output_type": "stream",
     "text": [
      "Charged Off Data: \n",
      "Not Verified       2142\n",
      "Verified           2051\n",
      "Source Verified    1434\n",
      "Name: verification_status, dtype: int64\n",
      "Fully Paid Data: \n",
      "Not Verified       14552\n",
      "Verified           10155\n",
      "Source Verified     8242\n",
      "Name: verification_status, dtype: int64\n"
     ]
    }
   ],
   "source": [
    "print(f\"Charged Off Data: \\n{charged_off_df['verification_status'].value_counts()}\")\n",
    "print(f\"Fully Paid Data: \\n{fully_paid_df['verification_status'].value_counts()}\")"
   ]
  },
  {
   "cell_type": "code",
   "execution_count": 35,
   "metadata": {},
   "outputs": [
    {
     "name": "stdout",
     "output_type": "stream",
     "text": [
      "Charged Off Data: \n",
      "count   5627.00\n",
      "mean      14.00\n",
      "std        6.59\n",
      "min        0.00\n",
      "25%        9.05\n",
      "50%       14.29\n",
      "75%       19.29\n",
      "max       29.85\n",
      "Name: dti, dtype: float64\n",
      "Fully Paid Data: \n",
      "count   32949.00\n",
      "mean       13.15\n",
      "std         6.68\n",
      "min         0.00\n",
      "25%         7.98\n",
      "50%        13.20\n",
      "75%        18.39\n",
      "max        29.99\n",
      "Name: dti, dtype: float64\n"
     ]
    },
    {
     "data": {
      "image/png": "[encoded data removed]",
      "text/plain": [
       "<Figure size 432x288 with 1 Axes>"
      ]
     },
     "metadata": {
      "needs_background": "light"
     },
     "output_type": "display_data"
    }
   ],
   "source": [
    "print(f\"Charged Off Data: \\n{charged_off_df['dti'].describe()}\")\n",
    "print(f\"Fully Paid Data: \\n{fully_paid_df['dti'].describe()}\")\n",
    "sns.barplot(x='loan_status',y='dti',data=loan_df_1)\n",
    "plt.show()\n",
    "# There seems to be a slight increase in DTI for charged off customers. Since the number is not significantly large, we can explore for other factors which do make a significant impact"
   ]
  },
  {
   "cell_type": "code",
   "execution_count": 36,
   "metadata": {},
   "outputs": [
    {
     "name": "stdout",
     "output_type": "stream",
     "text": [
      "Charged Off Data: \n",
      "0    4936\n",
      "1     507\n",
      "2     130\n",
      "3      35\n",
      "4      13\n",
      "5       3\n",
      "7       1\n",
      "6       1\n",
      "8       1\n",
      "Name: delinq_2yrs, dtype: int64\n",
      "Fully Paid Data: \n",
      "0     29449\n",
      "1      2700\n",
      "2       543\n",
      "3       177\n",
      "4        47\n",
      "5        18\n",
      "6         9\n",
      "7         3\n",
      "11        1\n",
      "9         1\n",
      "8         1\n",
      "Name: delinq_2yrs, dtype: int64\n"
     ]
    }
   ],
   "source": [
    "print(f\"Charged Off Data: \\n{charged_off_df['delinq_2yrs'].value_counts()}\")\n",
    "print(f\"Fully Paid Data: \\n{fully_paid_df['delinq_2yrs'].value_counts()}\")"
   ]
  },
  {
   "cell_type": "code",
   "execution_count": 37,
   "metadata": {},
   "outputs": [
    {
     "name": "stdout",
     "output_type": "stream",
     "text": [
      "Charged Off Data: \n",
      "count       5627\n",
      "unique       421\n",
      "top       Nov-98\n",
      "freq          58\n",
      "Name: earliest_cr_line, dtype: object\n",
      "Fully Paid Data: \n",
      "count      32949\n",
      "unique       520\n",
      "top       Oct-99\n",
      "freq         328\n",
      "Name: earliest_cr_line, dtype: object\n",
      "Charged Off Data: \n",
      "Nov-98    58\n",
      "Apr-00    57\n",
      "Jan-00    55\n",
      "Dec-97    52\n",
      "Nov-99    49\n",
      "          ..\n",
      "Feb-67     1\n",
      "Nov-82     1\n",
      "Jan-81     1\n",
      "Jun-80     1\n",
      "Aug-81     1\n",
      "Name: earliest_cr_line, Length: 421, dtype: int64\n",
      "Fully Paid Data: \n",
      "Oct-99    328\n",
      "Nov-98    299\n",
      "Oct-00    294\n",
      "Dec-98    293\n",
      "Nov-00    275\n",
      "         ... \n",
      "Sep-65      1\n",
      "Jun-66      1\n",
      "Dec-63      1\n",
      "Mar-68      1\n",
      "Sep-56      1\n",
      "Name: earliest_cr_line, Length: 520, dtype: int64\n"
     ]
    }
   ],
   "source": [
    "print(f\"Charged Off Data: \\n{charged_off_df['earliest_cr_line'].describe()}\")\n",
    "print(f\"Fully Paid Data: \\n{fully_paid_df['earliest_cr_line'].describe()}\")\n",
    "print(f\"Charged Off Data: \\n{charged_off_df['earliest_cr_line'].value_counts()}\")\n",
    "print(f\"Fully Paid Data: \\n{fully_paid_df['earliest_cr_line'].value_counts()}\")"
   ]
  },
  {
   "cell_type": "code",
   "execution_count": 38,
   "metadata": {},
   "outputs": [
    {
     "name": "stdout",
     "output_type": "stream",
     "text": [
      "Charged Off Data: \n",
      "count   5627.00\n",
      "mean       9.18\n",
      "std        4.53\n",
      "min        2.00\n",
      "25%        6.00\n",
      "50%        8.00\n",
      "75%       12.00\n",
      "max       38.00\n",
      "Name: open_acc, dtype: float64\n",
      "Fully Paid Data: \n",
      "count   32949.00\n",
      "mean        9.29\n",
      "std         4.38\n",
      "min         2.00\n",
      "25%         6.00\n",
      "50%         9.00\n",
      "75%        12.00\n",
      "max        44.00\n",
      "Name: open_acc, dtype: float64\n"
     ]
    }
   ],
   "source": [
    "print(f\"Charged Off Data: \\n{charged_off_df['open_acc'].describe()}\")\n",
    "print(f\"Fully Paid Data: \\n{fully_paid_df['open_acc'].describe()}\")"
   ]
  },
  {
   "cell_type": "code",
   "execution_count": 39,
   "metadata": {},
   "outputs": [
    {
     "name": "stdout",
     "output_type": "stream",
     "text": [
      "Charged Off Data: \n",
      "0    5160\n",
      "1     457\n",
      "2      10\n",
      "Name: pub_rec, dtype: int64\n",
      "Fully Paid Data: \n",
      "0    31346\n",
      "1     1556\n",
      "2       38\n",
      "3        7\n",
      "4        2\n",
      "Name: pub_rec, dtype: int64\n"
     ]
    }
   ],
   "source": [
    "print(f\"Charged Off Data: \\n{charged_off_df['pub_rec'].value_counts()}\")\n",
    "print(f\"Fully Paid Data: \\n{fully_paid_df['pub_rec'].value_counts()}\")"
   ]
  },
  {
   "cell_type": "code",
   "execution_count": 40,
   "metadata": {},
   "outputs": [
    {
     "name": "stdout",
     "output_type": "stream",
     "text": [
      "Charged Off Data: \n",
      "14    231\n",
      "16    223\n",
      "17    205\n",
      "15    200\n",
      "11    198\n",
      "     ... \n",
      "74      1\n",
      "70      1\n",
      "66      1\n",
      "58      1\n",
      "2       1\n",
      "Name: total_acc, Length: 65, dtype: int64\n",
      "Fully Paid Data: \n",
      "15    1218\n",
      "17    1206\n",
      "20    1204\n",
      "16    1201\n",
      "18    1192\n",
      "      ... \n",
      "87       1\n",
      "71       1\n",
      "80       1\n",
      "72       1\n",
      "77       1\n",
      "Name: total_acc, Length: 80, dtype: int64\n"
     ]
    }
   ],
   "source": [
    "print(f\"Charged Off Data: \\n{charged_off_df['total_acc'].value_counts()}\")\n",
    "print(f\"Fully Paid Data: \\n{fully_paid_df['total_acc'].value_counts()}\")"
   ]
  },
  {
   "cell_type": "code",
   "execution_count": 41,
   "metadata": {},
   "outputs": [
    {
     "name": "stdout",
     "output_type": "stream",
     "text": [
      "Charged Off Data: \n",
      "count   5611.00\n",
      "mean      55.57\n",
      "std       27.91\n",
      "min        0.00\n",
      "25%       34.40\n",
      "50%       58.40\n",
      "75%       79.00\n",
      "max       99.90\n",
      "Name: revol_util, dtype: float64\n",
      "Fully Paid Data: \n",
      "count   32915.00\n",
      "mean       47.53\n",
      "std        28.28\n",
      "min         0.00\n",
      "25%        23.90\n",
      "50%        47.60\n",
      "75%        70.80\n",
      "max        99.90\n",
      "Name: revol_util, dtype: float64\n"
     ]
    },
    {
     "data": {
      "image/png": "[encoded data removed]",
      "text/plain": [
       "<Figure size 432x288 with 1 Axes>"
      ]
     },
     "metadata": {
      "needs_background": "light"
     },
     "output_type": "display_data"
    }
   ],
   "source": [
    "print(f\"Charged Off Data: \\n{charged_off_df['revol_util'].describe()}\")\n",
    "print(f\"Fully Paid Data: \\n{fully_paid_df['revol_util'].describe()}\")\n",
    "sns.barplot(x='loan_status',y='revol_util',data=loan_df_1)\n",
    "plt.show()\n",
    "#Significant increase in case of defaulters"
   ]
  },
  {
   "cell_type": "code",
   "execution_count": 42,
   "metadata": {},
   "outputs": [
    {
     "name": "stdout",
     "output_type": "stream",
     "text": [
      "Charged Off Data: \n",
      "count   5627.00\n",
      "mean       3.12\n",
      "std        2.18\n",
      "min        0.07\n",
      "25%        1.41\n",
      "50%        2.60\n",
      "75%        4.32\n",
      "max       12.81\n",
      "Name: interest_to_income, dtype: float64\n",
      "Fully Paid Data: \n",
      "count   32949.00\n",
      "mean        2.17\n",
      "std         1.66\n",
      "min         0.00\n",
      "25%         0.94\n",
      "50%         1.72\n",
      "75%         2.95\n",
      "max        14.12\n",
      "Name: interest_to_income, dtype: float64\n"
     ]
    },
    {
     "data": {
      "image/png": "[encoded data removed]",
      "text/plain": [
       "<Figure size 432x288 with 1 Axes>"
      ]
     },
     "metadata": {
      "needs_background": "light"
     },
     "output_type": "display_data"
    }
   ],
   "source": [
    "print(f\"Charged Off Data: \\n{charged_off_df['interest_to_income'].describe()}\")\n",
    "print(f\"Fully Paid Data: \\n{fully_paid_df['interest_to_income'].describe()}\")\n",
    "sns.barplot(x='loan_status',y='interest_to_income',data=loan_df_1)\n",
    "plt.show()"
   ]
  },
  {
   "cell_type": "code",
   "execution_count": 43,
   "metadata": {},
   "outputs": [
    {
     "name": "stdout",
     "output_type": "stream",
     "text": [
      "Charged Off Data: \n",
      "count   5627.00\n",
      "mean     336.18\n",
      "std      217.05\n",
      "min       22.79\n",
      "25%      168.56\n",
      "50%      293.87\n",
      "75%      457.84\n",
      "max     1305.19\n",
      "Name: installment, dtype: float64\n",
      "Fully Paid Data: \n",
      "count   32949.00\n",
      "mean      320.13\n",
      "std       207.08\n",
      "min        15.69\n",
      "25%       165.27\n",
      "50%       275.66\n",
      "75%       420.74\n",
      "max      1295.21\n",
      "Name: installment, dtype: float64\n"
     ]
    },
    {
     "data": {
      "image/png": "[encoded data removed]",
      "text/plain": [
       "<Figure size 432x288 with 1 Axes>"
      ]
     },
     "metadata": {
      "needs_background": "light"
     },
     "output_type": "display_data"
    },
    {
     "data": {
      "image/png": "[encoded data removed]",
      "text/plain": [
       "<Figure size 432x288 with 1 Axes>"
      ]
     },
     "metadata": {
      "needs_background": "light"
     },
     "output_type": "display_data"
    }
   ],
   "source": [
    "# installment\n",
    "print(f\"Charged Off Data: \\n{charged_off_df['installment'].describe()}\")\n",
    "print(f\"Fully Paid Data: \\n{fully_paid_df['installment'].describe()}\")\n",
    "\n",
    "plt.hist(charged_off_df['installment'])\n",
    "plt.xlabel('charged_off_df installment')\n",
    "plt.ylabel('Frequency')\n",
    "plt.show()\n",
    "\n",
    "plt.hist(fully_paid_df['installment'])\n",
    "plt.xlabel('fully_paid_df installment')\n",
    "plt.ylabel('Frequency')\n",
    "plt.show()"
   ]
  },
  {
   "cell_type": "code",
   "execution_count": 44,
   "metadata": {},
   "outputs": [
    {
     "data": {
      "image/png": "[encoded data removed]",
      "text/plain": [
       "<Figure size 720x432 with 1 Axes>"
      ]
     },
     "metadata": {
      "needs_background": "light"
     },
     "output_type": "display_data"
    }
   ],
   "source": [
    "# Set the figure size\n",
    "plt.figure(figsize=(10, 6))\n",
    "# Create the bar plot\n",
    "sns.barplot(x='loan_status', y='annual_inc', data=loan_df_1, color='blue', label='Annual Inc')\n",
    "sns.barplot(x='loan_status', y='annual_int_amnt', data=loan_df_1, color='orange', label='DTI')\n",
    "\n",
    "# Set labels and title\n",
    "plt.xlabel('Loan Status')\n",
    "plt.ylabel('Value')\n",
    "plt.title('Bar Plot of Annual Inc and DTI by Loan Status')\n",
    "\n",
    "# Add a legend\n",
    "plt.legend()\n",
    "\n",
    "# Show the plot\n",
    "plt.show()"
   ]
  },
  {
   "cell_type": "code",
   "execution_count": 53,
   "metadata": {},
   "outputs": [
    {
     "data": {
      "image/png": "[encoded data removed]",
      "text/plain": [
       "<Figure size 576x432 with 2 Axes>"
      ]
     },
     "metadata": {
      "needs_background": "light"
     },
     "output_type": "display_data"
    }
   ],
   "source": [
    "loan_df_subset = loan_df_1[['loan_status_numeric', 'annual_inc', 'revol_util', 'interest_to_income']]\n",
    "\n",
    "corr_matrix = loan_df_subset.corr()\n",
    "\n",
    "# Create heatmap of the correlation matrix\n",
    "plt.figure(figsize=(8, 6))\n",
    "sns.heatmap(corr_matrix, annot=True, cmap='coolwarm')\n",
    "plt.title('Correlation Matrix')\n",
    "plt.show()"
   ]
  },
  {
   "cell_type": "code",
   "execution_count": null,
   "metadata": {},
   "outputs": [],
   "source": []
  }
 ],
 "metadata": {
  "kernelspec": {
   "display_name": "Python 3",
   "language": "python",
   "name": "python3"
  },
  "language_info": {
   "codemirror_mode": {
    "name": "ipython",
    "version": 3
   },
   "file_extension": ".py",
   "mimetype": "text/x-python",
   "name": "python",
   "nbconvert_exporter": "python",
   "pygments_lexer": "ipython3",
   "version": "3.7.7"
  }
 },
 "nbformat": 4,
 "nbformat_minor": 4
}
